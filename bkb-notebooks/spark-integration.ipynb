{
 "cells": [
  {
   "cell_type": "code",
   "execution_count": 1,
   "id": "aa164e73-fa8a-4727-a7a8-41eb3caa332e",
   "metadata": {},
   "outputs": [
    {
     "name": "stderr",
     "output_type": "stream",
     "text": [
      "24/01/14 22:54:46 WARN NativeCodeLoader: Unable to load native-hadoop library for your platform... using builtin-java classes where applicable\n",
      "Setting default log level to \"WARN\".\n",
      "To adjust logging level use sc.setLogLevel(newLevel). For SparkR, use setLogLevel(newLevel).\n",
      "                                                                                \r"
     ]
    },
    {
     "name": "stdout",
     "output_type": "stream",
     "text": [
      "+----------+------------------+-------+------+------------------+------------------+------------------+-------+---------+------------+\n",
      "|      Date|              Open|Country|Ticker|              High|               Low|             Close| Volume|Dividends|Stock Splits|\n",
      "+----------+------------------+-------+------+------------------+------------------+------------------+-------+---------+------------+\n",
      "|2007-09-26| 4.605397613267905| brazil| ABCB4| 4.684622764587402| 4.515838979347431| 4.684622764587402|  72665|      0.0|         0.0|\n",
      "|2007-09-27| 4.605397613267905| brazil| ABCB4| 4.684622764587402| 4.515838979347431| 4.684622764587402|  72665|      0.0|         0.0|\n",
      "|2007-09-28| 4.753513813018799| brazil| ABCB4|   4.9601887922053| 4.753513813018799| 4.753513813018799| 442102|      0.0|         0.0|\n",
      "|2007-10-01| 4.684622519848403| brazil| ABCB4| 4.942965817868213| 4.684622519848403| 4.805182933807373| 318368|      0.0|         0.0|\n",
      "|2007-10-02| 4.801737099270801| brazil| ABCB4| 4.818960010742479|4.6501758352623215|  4.79829216003418|  42105|      0.0|         0.0|\n",
      "|2007-10-03| 4.801737099270801| brazil| ABCB4| 4.818960010742479|4.6501758352623215|  4.79829216003418|  42105|      0.0|         0.0|\n",
      "|2007-10-04| 4.660509819896823| brazil| ABCB4| 4.781069755554199| 4.660509819896823| 4.781069755554199|  42376|      0.0|         0.0|\n",
      "|2007-10-05| 4.650176994824136| brazil| ABCB4| 4.787959874777053| 4.650176994824136| 4.784515380859375|  60033|      0.0|         0.0|\n",
      "|2007-10-08| 4.839628495783543| brazil| ABCB4| 4.960188903001983| 4.805182665149703|4.9257426261901855| 259013|      0.0|         0.0|\n",
      "|2007-10-09| 4.839628495783543| brazil| ABCB4| 4.960188903001983| 4.805182665149703|4.9257426261901855| 259013|      0.0|         0.0|\n",
      "|2007-10-10|   4.9085196243896| brazil| ABCB4| 5.029079126169276|   4.9085196243896| 4.915408611297607|1344644|      0.0|         0.0|\n",
      "|2007-10-11|4.9567438280288245| brazil| ABCB4| 5.025635487420651| 4.908520023396902|  4.99463415145874| 177656|      0.0|         0.0|\n",
      "|2007-10-15| 5.097970302579201| brazil| ABCB4| 5.201307773590088| 5.032523594547933| 5.201307773590088| 415481|      0.0|         0.0|\n",
      "|2007-10-16|5.0979708015065235| brazil| ABCB4| 5.201308282630825|5.0325240870701275| 5.184085369110107| 416024|      0.0|         0.0|\n",
      "|2007-10-17| 5.097970302579201| brazil| ABCB4| 5.225419671688147| 5.097970302579201| 5.201307773590088|2011805|      0.0|         0.0|\n",
      "|2007-10-18| 5.097970302579201| brazil| ABCB4| 5.225419671688147| 5.097970302579201| 5.201307773590088|2011805|      0.0|         0.0|\n",
      "|2007-10-19| 5.201307594049082| brazil| ABCB4|  5.30464506149292| 5.166861771567802|  5.30464506149292| 322986|      0.0|         0.0|\n",
      "|2007-10-22| 5.115193154783769| brazil| ABCB4| 5.270198913315245| 5.115193154783769| 5.235753536224365|1033474|      0.0|         0.0|\n",
      "|2007-10-23| 5.115193154783769| brazil| ABCB4| 5.270198913315245| 5.115193154783769| 5.235753536224365|1033474|      0.0|         0.0|\n",
      "|2007-10-24|5.2874237367871135| brazil| ABCB4|5.2874237367871135| 5.149640405518977| 5.263311386108398| 143836|      0.0|         0.0|\n",
      "+----------+------------------+-------+------+------------------+------------------+------------------+-------+---------+------------+\n",
      "only showing top 20 rows\n",
      "\n"
     ]
    }
   ],
   "source": [
    "import os\n",
    "\n",
    "mysql_connector_path = \"./mysql-connector-j-8.1.0.jar\"\n",
    "\n",
    "# os.environ['PYSPARK_SUBMIT_ARGS'] = f'--jars {mysql_connector_path} pyspark-shell'\n",
    "os.environ['PYSPARK_SUBMIT_ARGS'] = f'--jars {mysql_connector_path} --master spark://bigdata-spark:7077 pyspark-shell'\n",
    "\n",
    "\n",
    "from pyspark.sql import SparkSession\n",
    "\n",
    "spark = SparkSession.builder.appName(\"MySQLDataRead\").getOrCreate()\n",
    "\n",
    "# Configuração do MySQL\n",
    "mysql_url = \"jdbc:mysql://bigdata-mysql:3306/mydatabase\"\n",
    "mysql_properties = {\n",
    "    \"driver\": \"com.mysql.cj.jdbc.Driver\",\n",
    "    \"user\": \"user\",\n",
    "    \"password\": \"secret\"\n",
    "}\n",
    "\n",
    "# Leitura dos dados do MySQL para um DataFrame Spark\n",
    "df_mysql = spark.read \\\n",
    "    .format(\"jdbc\") \\\n",
    "    .option(\"url\", mysql_url) \\\n",
    "    .option(\"dbtable\", \"stock_data\") \\\n",
    "    .option(\"user\", mysql_properties[\"user\"]) \\\n",
    "    .option(\"password\", mysql_properties[\"password\"]) \\\n",
    "    .option(\"driver\", mysql_properties[\"driver\"]) \\\n",
    "    .load()\n",
    "\n",
    "# Mostra o DataFrame Spark\n",
    "df_mysql.show()\n",
    "\n",
    "# Encerra a sessão Spark\n",
    "spark.stop()\n"
   ]
  },
  {
   "cell_type": "code",
   "execution_count": null,
   "id": "cb8deae4-c14b-4784-8b17-4762c5c74500",
   "metadata": {},
   "outputs": [],
   "source": []
  },
  {
   "cell_type": "code",
   "execution_count": null,
   "id": "abe40fab-374c-478c-988f-914afed03ff0",
   "metadata": {},
   "outputs": [],
   "source": []
  }
 ],
 "metadata": {
  "kernelspec": {
   "display_name": "Python 3 (ipykernel)",
   "language": "python",
   "name": "python3"
  },
  "language_info": {
   "codemirror_mode": {
    "name": "ipython",
    "version": 3
   },
   "file_extension": ".py",
   "mimetype": "text/x-python",
   "name": "python",
   "nbconvert_exporter": "python",
   "pygments_lexer": "ipython3",
   "version": "3.11.6"
  }
 },
 "nbformat": 4,
 "nbformat_minor": 5
}
